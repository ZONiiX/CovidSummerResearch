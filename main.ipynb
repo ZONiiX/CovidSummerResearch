{
 "metadata": {
  "language_info": {
   "codemirror_mode": {
    "name": "ipython",
    "version": 3
   },
   "file_extension": ".py",
   "mimetype": "text/x-python",
   "name": "python",
   "nbconvert_exporter": "python",
   "pygments_lexer": "ipython3",
   "version": "3.8.3-final"
  },
  "orig_nbformat": 2,
  "kernelspec": {
   "name": "python3",
   "display_name": "Python 3.8.3 64-bit",
   "metadata": {
    "interpreter": {
     "hash": "3d86ca6da76a30d30559e4fb278d6a97482b8c0a5a045b2764928920297b9e26"
    }
   }
  }
 },
 "nbformat": 4,
 "nbformat_minor": 2,
 "cells": [
  {
   "cell_type": "code",
   "execution_count": 70,
   "metadata": {},
   "outputs": [],
   "source": [
    "import pandas as pd\n",
    "import requests\n",
    "from bs4 import BeautifulSoup\n",
    "import re"
   ]
  },
  {
   "source": [
    "url = \"https://www.sec.gov/cgi-bin/srch-edgar?text=FORM-TYPE=10-k+and+FILING-DATE=202102*\"\n",
    "\n",
    "response = requests.get(url)\n",
    "\n",
    "soup = BeautifulSoup(response.text, 'html.parser')\n",
    "\n",
    "rows = soup.findAll('tr')\n",
    "\n",
    "new_rows = rows[12:93]\n",
    "\n",
    "filing_date = []\n",
    "company_name = []\n",
    "form_url = []\n",
    "\n",
    "form = []\n",
    "\n",
    "wordList = []\n",
    "\n",
    "\n",
    "print(len(rows))\n",
    "print(len(new_rows))\n",
    "\n",
    "for row in new_rows:\n",
    "    data = row.findAll('td')\n",
    "\n",
    "    filingDate = str(data[4]).split(\">\")[1].split('<')[0]\n",
    "\n",
    "    filing_date.append(filingDate)\n",
    "\n",
    "\n",
    "    for company in data[1:2]:\n",
    "            results = company.findAll('a', href=True)\n",
    "            companyName = str(results).split(\">\")[1].split('<')[0]\n",
    "\n",
    "            #print(companyName)\n",
    "            \n",
    "            company_name.append(companyName)\n",
    "\n",
    "    for link in data[2:3]:\n",
    "        new_url = link.findAll('a', href=True)[1]\n",
    "\n",
    "        new_url = \"https://www.sec.gov\" + str(new_url.get('href'))\n",
    "\n",
    "        form_url.append(new_url)\n",
    "\n",
    "#To scrape the second page for the 10-k link, then put the links into another list\n",
    "for link in range(0, len(form_url)):\n",
    "    url = str(form_url[link])\n",
    "\n",
    "    HEADERS = ({'User-Agent':\n",
    "            'Mozilla/5.0 (X11; Linux x86_64) AppleWebKit/537.36 (KHTML, like Gecko) Chrome/44.0.2403.157 Safari/537.36',\n",
    "            'Accept-Language': 'en-US, en;q=0.5'})\n",
    "\n",
    "    response = requests.get(url, headers = HEADERS)\n",
    "\n",
    "    soup = BeautifulSoup(response.text, 'html.parser')\n",
    "\n",
    "    new_url = soup.findAll('a', href=True)[9]\n",
    "\n",
    "    try:\n",
    "        form.append(\"https://www.sec.gov\" + str(new_url.get('href').split('=')[1]))\n",
    "    except:\n",
    "        form.append(\"https://www.sec.gov\" + str(new_url.get('href')))\n",
    "\n",
    "#Scrape the form url list for the words \"supply chain\" and dump to a list\n",
    "\n",
    "for link in range(0, len(form)):\n",
    "    url = str(form[link])\n",
    "\n",
    "    HEADERS = ({'User-Agent':\n",
    "            'Mozilla/5.0 (X11; Linux x86_64) AppleWebKit/537.36 (KHTML, like Gecko) Chrome/44.0.2403.157 Safari/537.36',\n",
    "            'Accept-Language': 'en-US, en;q=0.5'})\n",
    "\n",
    "    response = requests.get(url, headers = HEADERS)\n",
    "\n",
    "    soup = BeautifulSoup(response.text, 'html.parser')\n",
    "\n",
    "    wordList.append(str(soup.findAll(text=re.compile(\"supply chain\"))))\n",
    "\n",
    "        \n",
    "\n",
    "\n",
    "values = {'Company Name': company_name, 'Filing Date': filing_date, '10-k Links': form 'Text Data':wordList}\n",
    "\n",
    "df = pd.DataFrame(values).to_csv('formdata.csv', mode='w', index=False)\n",
    "\n",
    "print(len(form))\n",
    "print(len(company_name))\n",
    "print(len(wordList))\n",
    "print(wordList)"
   ],
   "cell_type": "code",
   "metadata": {
    "tags": []
   },
   "execution_count": 71,
   "outputs": [
    {
     "output_type": "stream",
     "name": "stdout",
     "text": [
      "94\n",
      "81\n",
      "81\n",
      "81\n",
      "4\n",
      "['The extent of the impacts of the COVID-19 pandemic on our business and financial results will continue to depend on numerous evolving factors that we are not able to accurately predict and which will vary by market, including the duration and scope of the pandemic, global economic conditions during and after the pandemic, governmental actions that have been taken, or may be taken in the future, in response to the pandemic, and changes in customer behavior in response to the pandemic, some of which may be more than just temporary. Our global operations expose us to risks associated with the COVID-19 pandemic, which has continued to result in challenging operating environments. COVID-19 continues to spread across the globe to almost all of the countries and territories in which our products are developed, made, manufactured, distributed or sold. Authorities in many of these markets have implemented numerous measures to stall the spread and reduce the impact of COVID-19, including travel bans and restrictions, quarantines, curfews, shelter in place and safer-at-home orders, business shutdowns and closures, and have also implemented multi-step polices with the goal of re-opening these markets. These measures have impacted and continue to impact us, our employees, customers, contract manufacturers, distributors, partners, suppliers and other third parties with whom we do business. The countries and territories in which our products are developed, made, manufactured, distributed or sold are in varying stages of restrictions, re-opening and re-closing to address the COVID-19 pandemic. Certain jurisdictions have begun re-opening only to return to restrictions in the face of increases in new COVID-19 cases. There is considerable uncertainty regarding how the effects of the pandemic, including current and future health and safety measures implemented in response to the pandemic, will impact our business, including whether they will result in further changes in demand for our products, further increases in operating costs (whether as a result of changes to our supply chain or increases in employee costs, operating costs or otherwise), further impact our ability to perform research and development, manufacturing, and shipping of our products, how they will further impact our supply chain and whether they will result in further reduced availability of air or other commercial transport, port closures or border restrictions, each or all of which can impact our ability to make, manufacture, distribute and sell our products. To date, we have incurred increased costs as a result of COVID-19, including increased expenses to implement additional measures to ensure the health and safety of our workforce, such as weekly COVID-19 testing. In addition, measures that impact our ability to access our facilities may continue to impact the availability of our employees, some of whom are not able to perform their job functions remotely. If a significant percentage of our or our business partners’ workforce is unable to work, including because of illness, facility closures, quarantine, curfews, shelter in place orders, travel restrictions, social distancing requirements or other governmental restrictions or voluntarily adopted practices, our operations will be negatively impacted. Any sustained interruption in our or our business partners’ operations, research and development, distribution network or supply chain or any significant continuous shortage of raw materials or other supplies as a result of these measures, restrictions or disruptions, including as a result of increased demand for certain products, can materially impair our ability to develop, make, manufacture, distribute or sell our products. ', 'While we have taken steps to mitigate potential supply chain and transportation infrastructure system issues which may result from the COVID-19 pandemic, the impacts of the COVID-19 pandemic may exacerbate the risks described in this risk factor and could cause certain of our suppliers to be unable to operate temporarily or go out of business permanently. The realization of any of these risks could prevent us from producing, selling or delivering our products, reduce our sales and harm our gross margins or permanently cause a change in one or more of our products that may not be accepted by our customers or cause us to eliminate ', 'The risk of manufacturing defects or quality control issues is generally higher for new products, whether produced by us or a third-party manufacturer, products that are transitioned from one manufacturer to another, particularly if manufacturing is transitioned or initiated with a manufacturer we have not worked with in the past, and products that are transferred from one manufacturing facility to another. Our current product roadmap calls for the introduction of new instruments and consumables, which may require that we utilize manufacturers with which we have little or no prior manufacturing experience and the risk of manufacturing defects or quality control issues could increase as a result. The expansion of our manufacturing capabilities could increase the risk of manufacturing defects or quality control issues in the consumables we manufacture. We cannot assure investors that we and our third-party manufacturers will be able to launch new products on time, transition manufacturing of existing products to new manufacturers, transition our manufacturing capabilities to a new location or transition manufacturing of any additional consumables in-house without manufacturing defects. Additionally, impacts stemming from the COVID-19 pandemic, including impacts on the health and safety of our manufacturing staff or on the global supply chain and transportation infrastructure, may limit our ability to manufacture products and components that meet specifications, in necessary quantities and at commercially acceptable costs and deliver them in commercially acceptable timeframes to our customers.', 'With the implementation of our protocols and safety measures, our production, shipping and customer service functions have been operational and we have been able to maintain a continuous supply of products to our customers. We are communicating regularly with our suppliers, our supply chain remains intact and we have not yet experienced significant supply issues. With respect to equipment and raw material supply, we continue to work to secure sufficient critical equipment and raw materials to meet anticipated future demand and we are carrying higher levels of inventory and monitoring closely whether there will be a material negative impact due to potential future shortages or price increases from suppliers. Our customer service teams around the world are operating remotely and remain available to assist our customers and partners as needed;', \"During the first half of 2020, the vast majority of academic and government labs around the world suspended or severely reduced operations in compliance with stay-at-home, shelter-in-place and similar orders resulting in a decrease in overall demand during this period and also resulting in our production facilities running at less than normal capacity which negatively impacted our gross margins. While we experienced higher demand for our products during the second half of 2020 due to partial reopening of our customer's businesses, until and unless demand for our solutions normalizes, our gross profits and gross margins will be negatively impacted. While we cannot reliably estimate the extent to which the COVID-19 pandemic will impact our overall gross profit and gross margins in the first quarter of 2021 and beyond, we plan to continue to invest in our manufacturing facilities and production efforts and manage our supply chain to ensure the delivery of products to our customers.\", \"The COVID-19 pandemic has negatively impacted the global economy, resulted in the closure of many of our customers’ facilities, disrupted global supply chains and created significant volatility and disruption of financial markets. While certain of our customers' labs began to re-open in June 2020 and continued to re-open during the second half of 2020, many of those labs are not yet fully operational and an extended period of economic disruption and closure, on-going limitations on operations at customer facilities or re-closure of our customers’ labs could materially affect our business, results of operations, financial condition and access to sources of liquidity. We will continue to monitor the development and control of the COVID-19 pandemic and we believe there will be an increase in business activity upon the loosening of pandemic-related restrictions, including a resurgence in activity levels at laboratories which were temporarily closed, barring a renewed increase in COVID-19 cases which may lead to further business closures. Although we are currently uncertain as to when this resurgence will occur, we intend to invest in research and development activities and other initiatives while the COVID-19 pandemic is brought under control including accelerated investments in product development and intellectual property to launch new products and continue improving existing 10x solutions. Additionally, we plan to continue to build our commercial organization across key geographies around the world and invest in capabilities to address the interest we are seeing from the pharmaceutical and translational markets. \"]\n"
     ]
    }
   ]
  },
  {
   "cell_type": "code",
   "execution_count": null,
   "metadata": {},
   "outputs": [],
   "source": []
  }
 ]
}