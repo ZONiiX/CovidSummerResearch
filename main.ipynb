{
 "metadata": {
  "language_info": {
   "codemirror_mode": {
    "name": "ipython",
    "version": 3
   },
   "file_extension": ".py",
   "mimetype": "text/x-python",
   "name": "python",
   "nbconvert_exporter": "python",
   "pygments_lexer": "ipython3",
   "version": "3.8.3-final"
  },
  "orig_nbformat": 2,
  "kernelspec": {
   "name": "python3",
   "display_name": "Python 3.8.3 64-bit",
   "metadata": {
    "interpreter": {
     "hash": "3d86ca6da76a30d30559e4fb278d6a97482b8c0a5a045b2764928920297b9e26"
    }
   }
  }
 },
 "nbformat": 4,
 "nbformat_minor": 2,
 "cells": [
  {
   "cell_type": "code",
   "execution_count": 287,
   "metadata": {},
   "outputs": [],
   "source": [
    "import pandas as pd\n",
    "import requests\n",
    "from bs4 import BeautifulSoup"
   ]
  },
  {
   "source": [
    "\n",
    "\n",
    "url = \"https://www.sec.gov/cgi-bin/srch-edgar?text=FORM-TYPE=10-k+and+FILING-DATE=202102*\"\n",
    "\n",
    "response = requests.get(url)\n",
    "\n",
    "soup = BeautifulSoup(response.text, 'html.parser')\n",
    "\n",
    "rows = soup.findAll('tr')\n",
    "\n",
    "new_rows = rows[12:93]\n",
    "\n",
    "filing_date = []\n",
    "company_name = []\n",
    "\n",
    "print(len(rows))\n",
    "print(len(new_rows))\n",
    "\n",
    "for row in new_rows:\n",
    "    data = row.findAll('td')\n",
    "\n",
    "    filingDate = str(data[4]).split(\">\")[1].split('<')[0]\n",
    "\n",
    "    filing_date.append(filingDate)\n",
    "\n",
    "    for company in data[1:2]:\n",
    "         results = company.findAll('a', href=True)\n",
    "         companyName = str(results).split(\">\")[1].split('<')[0]\n",
    "\n",
    "         print(companyName)\n",
    "         \n",
    "         company_name.append(companyName)\n",
    " \n",
    "\n",
    "values = {'Company Name': company_name, 'Filing Date': filing_date}\n",
    "\n",
    "df = pd.DataFrame(values).to_csv('formdata.csv', mode='w')\n"
   ],
   "cell_type": "code",
   "metadata": {
    "tags": []
   },
   "execution_count": 288,
   "outputs": [
    {
     "output_type": "stream",
     "name": "stdout",
     "text": [
      "94\n81\n10x Genomics, Inc.\n1ST SOURCE CORP\n2U, Inc.\n3D MAKERJET, INC.\n3D MAKERJET, INC.\n3D MAKERJET, INC.\n3D MAKERJET, INC.\n3D MAKERJET, INC.\n3M CO\nAAON, INC.\nAaron's Company, Inc.\nABBOTT LABORATORIES\nAbbVie Inc.\nAcadia Healthcare Company, Inc.\nACADIA PHARMACEUTICALS INC\nACADIA REALTY TRUST\nACCELERON PHARMA INC\nACCO BRANDS Corp\nACI WORLDWIDE, INC.\nAclaris Therapeutics, Inc.\nActivision Blizzard, Inc.\nAcushnet Holdings Corp.\nAdamas Pharmaceuticals Inc\nAdaptimmune Therapeutics PLC\nAdaptive Biotechnologies Corp\nAdorbs Inc.\nADT Inc.\nADTRAN INC\nADVANCE AUTO PARTS INC\nADVANCED ENERGY INDUSTRIES INC\nAdvanSix Inc.\nAEP Texas Inc.\nAEP Transmission Company, LLC\nAERIE PHARMACEUTICALS INC\nAEROJET ROCKETDYNE HOLDINGS, INC.\nAES CORP\nAFFILIATED MANAGERS GROUP, INC.\nAFLAC INC\nAG Mortgage Investment Trust, Inc.\nAGIOS PHARMACEUTICALS, INC.\nAGNC Investment Corp.\nAGREE REALTY CORP\nAIR LEASE CORP\nAirbnb, Inc.\nAIRGAIN INC\nAKAMAI TECHNOLOGIES INC\nAkebia Therapeutics, Inc.\nALABAMA POWER CO\nALAMO GROUP INC\nAlarm.com Holdings, Inc.\nALASKA AIR GROUP, INC.\nALBANY INTERNATIONAL CORP /DE/\nALBEMARLE CORP\nALBIREO PHARMA, INC.\nAlcoa Corp\nAlector, Inc.\nAlexander &amp; Baldwin, Inc.\nALEXANDERS INC\nALEXANDRIA REAL ESTATE EQUITIES, INC.\nALEXION PHARMACEUTICALS, INC.\nALIGN TECHNOLOGY INC\nAlkermes plc.\nALLEGHANY CORP /DE\nALLEGHENY TECHNOLOGIES INC\nAllegion plc\nALLETE INC\nALLIANCE DATA SYSTEMS CORP\nALLIANCE RESOURCE PARTNERS LP\nALLIANCEBERNSTEIN HOLDING L.P.\nALLIANCEBERNSTEIN L.P.\nALLIANT ENERGY CORP\nAllison Transmission Holdings Inc\nAllogene Therapeutics, Inc.\nAllovir, Inc.\nALLSCRIPTS HEALTHCARE SOLUTIONS, INC.\nALLSTATE CORP\nAlly Financial Inc.\nALNYLAM PHARMACEUTICALS, INC.\nAlpha Healthcare Acquisition Corp.\nAlphabet Inc.\nAlpine Income Property Trust, Inc.\n"
     ]
    }
   ]
  },
  {
   "cell_type": "code",
   "execution_count": null,
   "metadata": {},
   "outputs": [],
   "source": []
  }
 ]
}