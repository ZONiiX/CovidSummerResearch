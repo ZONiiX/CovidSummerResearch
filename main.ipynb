{
 "metadata": {
  "language_info": {
   "codemirror_mode": {
    "name": "ipython",
    "version": 3
   },
   "file_extension": ".py",
   "mimetype": "text/x-python",
   "name": "python",
   "nbconvert_exporter": "python",
   "pygments_lexer": "ipython3",
   "version": "3.8.3-final"
  },
  "orig_nbformat": 2,
  "kernelspec": {
   "name": "python3",
   "display_name": "Python 3.8.3 64-bit",
   "metadata": {
    "interpreter": {
     "hash": "3d86ca6da76a30d30559e4fb278d6a97482b8c0a5a045b2764928920297b9e26"
    }
   }
  }
 },
 "nbformat": 4,
 "nbformat_minor": 2,
 "cells": [
  {
   "cell_type": "code",
   "execution_count": 311,
   "metadata": {},
   "outputs": [],
   "source": [
    "import pandas as pd\n",
    "import requests\n",
    "from bs4 import BeautifulSoup"
   ]
  },
  {
   "source": [
    "\n",
    "\n",
    "url = \"https://www.sec.gov/cgi-bin/srch-edgar?text=FORM-TYPE=10-k+and+FILING-DATE=202102*\"\n",
    "\n",
    "response = requests.get(url)\n",
    "\n",
    "soup = BeautifulSoup(response.text, 'html.parser')\n",
    "\n",
    "rows = soup.findAll('tr')\n",
    "\n",
    "new_rows = rows[12:93]\n",
    "\n",
    "filing_date = []\n",
    "company_name = []\n",
    "form_url = []\n",
    "\n",
    "print(len(rows))\n",
    "print(len(new_rows))\n",
    "\n",
    "for row in new_rows:\n",
    "    data = row.findAll('td')\n",
    "\n",
    "    filingDate = str(data[4]).split(\">\")[1].split('<')[0]\n",
    "\n",
    "    filing_date.append(filingDate)\n",
    "\n",
    "\n",
    "    for company in data[1:2]:\n",
    "         results = company.findAll('a', href=True)\n",
    "         companyName = str(results).split(\">\")[1].split('<')[0]\n",
    "\n",
    "         #print(companyName)\n",
    "         \n",
    "         company_name.append(companyName)\n",
    "\n",
    "    for link in data[2:3]:\n",
    "        new_url = link.findAll('a', href=True)[1]\n",
    "\n",
    "        new_url = \"https://www.sec.gov\" + str(new_url.get('href'))\n",
    "\n",
    "        form_url.append(new_url)\n",
    "\n",
    " \n",
    "\n",
    "values = {'Company Name': company_name, 'Filing Date': filing_date, 'Links':form_url }\n",
    "\n",
    "df = pd.DataFrame(values).to_csv('formdata.csv', mode='w')\n",
    "\n",
    "print(form_url)\n"
   ],
   "cell_type": "code",
   "metadata": {
    "tags": []
   },
   "execution_count": 312,
   "outputs": [
    {
     "output_type": "stream",
     "name": "stdout",
     "text": [
      "94\n81\n['https://www.sec.gov/Archives/edgar/data/1770787/000177078721000009/0001770787-21-000009-index.htm', 'https://www.sec.gov/Archives/edgar/data/34782/000003478221000036/0000034782-21-000036-index.htm', 'https://www.sec.gov/Archives/edgar/data/1459417/000145941721000003/0001459417-21-000003-index.htm', 'https://www.sec.gov/Archives/edgar/data/1458023/000121390021009900/0001213900-21-009900-index.htm', 'https://www.sec.gov/Archives/edgar/data/1458023/000121390021009910/0001213900-21-009910-index.htm', 'https://www.sec.gov/Archives/edgar/data/1458023/000121390021009911/0001213900-21-009911-index.htm', 'https://www.sec.gov/Archives/edgar/data/1458023/000121390021009904/0001213900-21-009904-index.htm', 'https://www.sec.gov/Archives/edgar/data/1458023/000121390021009907/0001213900-21-009907-index.htm', 'https://www.sec.gov/Archives/edgar/data/66740/000155837021000737/0001558370-21-000737-index.htm', 'https://www.sec.gov/Archives/edgar/data/824142/000082414221000030/0000824142-21-000030-index.htm', 'https://www.sec.gov/Archives/edgar/data/1821393/000182139321000009/0001821393-21-000009-index.htm', 'https://www.sec.gov/Archives/edgar/data/1800/000110465921025751/0001104659-21-025751-index.htm', 'https://www.sec.gov/Archives/edgar/data/1551152/000155115221000008/0001551152-21-000008-index.htm', 'https://www.sec.gov/Archives/edgar/data/1520697/000156459021009466/0001564590-21-009466-index.htm', 'https://www.sec.gov/Archives/edgar/data/1070494/000156459021008372/0001564590-21-008372-index.htm', 'https://www.sec.gov/Archives/edgar/data/899629/000156459021007196/0001564590-21-007196-index.htm', 'https://www.sec.gov/Archives/edgar/data/1280600/000128060021000017/0001280600-21-000017-index.htm', 'https://www.sec.gov/Archives/edgar/data/712034/000071203421000015/0000712034-21-000015-index.htm', 'https://www.sec.gov/Archives/edgar/data/935036/000093503621000014/0000935036-21-000014-index.htm', 'https://www.sec.gov/Archives/edgar/data/1557746/000155837021001717/0001558370-21-001717-index.htm', 'https://www.sec.gov/Archives/edgar/data/718877/000162828021002828/0001628280-21-002828-index.htm', 'https://www.sec.gov/Archives/edgar/data/1672013/000167201321000013/0001672013-21-000013-index.htm', 'https://www.sec.gov/Archives/edgar/data/1328143/000132814321000019/0001328143-21-000019-index.htm', 'https://www.sec.gov/Archives/edgar/data/1621227/000155837021001827/0001558370-21-001827-index.htm', 'https://www.sec.gov/Archives/edgar/data/1478320/000156459021008124/0001564590-21-008124-index.htm', 'https://www.sec.gov/Archives/edgar/data/1726822/000121390021007950/0001213900-21-007950-index.htm', 'https://www.sec.gov/Archives/edgar/data/1703056/000170305621000020/0001703056-21-000020-index.htm', 'https://www.sec.gov/Archives/edgar/data/926282/000156459021009423/0001564590-21-009423-index.htm', 'https://www.sec.gov/Archives/edgar/data/1158449/000115844921000036/0001158449-21-000036-index.htm', 'https://www.sec.gov/Archives/edgar/data/927003/000155837021001513/0001558370-21-001513-index.htm', 'https://www.sec.gov/Archives/edgar/data/1673985/000167398521000011/0001673985-21-000011-index.htm', 'https://www.sec.gov/Archives/edgar/data/1721781/000000490421000010/0000004904-21-000010-index.htm', 'https://www.sec.gov/Archives/edgar/data/1702494/000000490421000010/0000004904-21-000010-index.htm', 'https://www.sec.gov/Archives/edgar/data/1337553/000162828021003345/0001628280-21-003345-index.htm', 'https://www.sec.gov/Archives/edgar/data/40888/000004088821000006/0000040888-21-000006-index.htm', 'https://www.sec.gov/Archives/edgar/data/874761/000087476121000015/0000874761-21-000015-index.htm', 'https://www.sec.gov/Archives/edgar/data/1004434/000100443421000014/0001004434-21-000014-index.htm', 'https://www.sec.gov/Archives/edgar/data/4977/000000497721000047/0000004977-21-000047-index.htm', 'https://www.sec.gov/Archives/edgar/data/1514281/000151428121000025/0001514281-21-000025-index.htm', 'https://www.sec.gov/Archives/edgar/data/1439222/000143922221000029/0001439222-21-000029-index.htm', 'https://www.sec.gov/Archives/edgar/data/1423689/000142368921000011/0001423689-21-000011-index.htm', 'https://www.sec.gov/Archives/edgar/data/917251/000155837021001212/0001558370-21-001212-index.htm', 'https://www.sec.gov/Archives/edgar/data/1487712/000155837021001372/0001558370-21-001372-index.htm', 'https://www.sec.gov/Archives/edgar/data/1559720/000155972021000010/0001559720-21-000010-index.htm', 'https://www.sec.gov/Archives/edgar/data/1272842/000119312521049098/0001193125-21-049098-index.htm', 'https://www.sec.gov/Archives/edgar/data/1086222/000108622221000075/0001086222-21-000075-index.htm', 'https://www.sec.gov/Archives/edgar/data/1517022/000162828021003283/0001628280-21-003283-index.htm', 'https://www.sec.gov/Archives/edgar/data/3153/000009212221000006/0000092122-21-000006-index.htm', 'https://www.sec.gov/Archives/edgar/data/897077/000089707721000007/0000897077-21-000007-index.htm', 'https://www.sec.gov/Archives/edgar/data/1459200/000145920021000012/0001459200-21-000012-index.htm', 'https://www.sec.gov/Archives/edgar/data/766421/000076642121000018/0000766421-21-000018-index.htm', 'https://www.sec.gov/Archives/edgar/data/819793/000081979321000017/0000819793-21-000017-index.htm', 'https://www.sec.gov/Archives/edgar/data/915913/000091591321000018/0000915913-21-000018-index.htm', 'https://www.sec.gov/Archives/edgar/data/1322505/000155837021001730/0001558370-21-001730-index.htm', 'https://www.sec.gov/Archives/edgar/data/1675149/000156459021008854/0001564590-21-008854-index.htm', 'https://www.sec.gov/Archives/edgar/data/1653087/000156459021008860/0001564590-21-008860-index.htm', 'https://www.sec.gov/Archives/edgar/data/1545654/000154565421000006/0001545654-21-000006-index.htm', 'https://www.sec.gov/Archives/edgar/data/3499/000000349921000005/0000003499-21-000005-index.htm', 'https://www.sec.gov/Archives/edgar/data/1035443/000103544321000044/0001035443-21-000044-index.htm', 'https://www.sec.gov/Archives/edgar/data/899866/000089986621000014/0000899866-21-000014-index.htm', 'https://www.sec.gov/Archives/edgar/data/1097149/000109714921000007/0001097149-21-000007-index.htm', 'https://www.sec.gov/Archives/edgar/data/1520262/000156459021005593/0001564590-21-005593-index.htm', 'https://www.sec.gov/Archives/edgar/data/775368/000156459021007601/0001564590-21-007601-index.htm', 'https://www.sec.gov/Archives/edgar/data/1018963/000162828021003434/0001628280-21-003434-index.htm', 'https://www.sec.gov/Archives/edgar/data/1579241/000157924121000020/0001579241-21-000020-index.htm', 'https://www.sec.gov/Archives/edgar/data/66756/000006675621000025/0000066756-21-000025-index.htm', 'https://www.sec.gov/Archives/edgar/data/1101215/000110121521000036/0001101215-21-000036-index.htm', 'https://www.sec.gov/Archives/edgar/data/1086600/000155837021001419/0001558370-21-001419-index.htm', 'https://www.sec.gov/Archives/edgar/data/825313/000082531321000006/0000825313-21-000006-index.htm', 'https://www.sec.gov/Archives/edgar/data/1109448/000110944821000006/0001109448-21-000006-index.htm', 'https://www.sec.gov/Archives/edgar/data/352541/000035254121000022/0000352541-21-000022-index.htm', 'https://www.sec.gov/Archives/edgar/data/1411207/000156459021006709/0001564590-21-006709-index.htm', 'https://www.sec.gov/Archives/edgar/data/1737287/000173728721000009/0001737287-21-000009-index.htm', 'https://www.sec.gov/Archives/edgar/data/1754068/000156459021005652/0001564590-21-005652-index.htm', 'https://www.sec.gov/Archives/edgar/data/1124804/000156459021009410/0001564590-21-009410-index.htm', 'https://www.sec.gov/Archives/edgar/data/899051/000089905121000011/0000899051-21-000011-index.htm', 'https://www.sec.gov/Archives/edgar/data/40729/000004072921000008/0000040729-21-000008-index.htm', 'https://www.sec.gov/Archives/edgar/data/1178670/000117867021000010/0001178670-21-000010-index.htm', 'https://www.sec.gov/Archives/edgar/data/1818382/000121390021009571/0001213900-21-009571-index.htm', 'https://www.sec.gov/Archives/edgar/data/1652044/000165204421000010/0001652044-21-000010-index.htm', 'https://www.sec.gov/Archives/edgar/data/1786117/000155837021001062/0001558370-21-001062-index.htm']\n"
     ]
    }
   ]
  },
  {
   "cell_type": "code",
   "execution_count": null,
   "metadata": {},
   "outputs": [],
   "source": []
  }
 ]
}